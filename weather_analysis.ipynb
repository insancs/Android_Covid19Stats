{
  "nbformat": 4,
  "nbformat_minor": 0,
  "metadata": {
    "colab": {
      "name": "weather_analysis.ipynb",
      "provenance": [],
      "authorship_tag": "ABX9TyPCBys3a4JWpVBrrYV94sby",
      "include_colab_link": true
    },
    "kernelspec": {
      "name": "python3",
      "display_name": "Python 3"
    },
    "language_info": {
      "name": "python"
    }
  },
  "cells": [
    {
      "cell_type": "markdown",
      "metadata": {
        "id": "view-in-github",
        "colab_type": "text"
      },
      "source": [
        "<a href=\"https://colab.research.google.com/github/insancs/Android_Covid19Stats/blob/master/weather_analysis.ipynb\" target=\"_parent\"><img src=\"https://colab.research.google.com/assets/colab-badge.svg\" alt=\"Open In Colab\"/></a>"
      ]
    },
    {
      "cell_type": "code",
      "metadata": {
        "colab": {
          "base_uri": "https://localhost:8080/"
        },
        "id": "FSr2bz7EOUwS",
        "outputId": "ea37dd43-60e4-4f64-fbc7-9044fa299af4"
      },
      "source": [
        "import pandas as pd\n",
        "import matplotlib.pyplot as plt\n",
        "    \n",
        "# Read the dataset\n",
        "weather2010 = pd.read_csv('sample_data/NOAA dataset 2010.csv', sep=';')\n",
        "weather2011 = pd.read_csv('sample_data/NOAA dataset 2011.csv', sep=';')\n",
        "\n",
        "# Print head of data\n",
        "print(\"Data 2010\\n\", weather2010.head())\n",
        "print(\"Data 2011\\n\", weather2011.head())"
      ],
      "execution_count": 8,
      "outputs": [
        {
          "output_type": "stream",
          "text": [
            "Data 2010\n",
            "    Temperature  DewPoint  Pressure            Date\n",
            "0         46.2      37.5       1.0  20100101 00:00\n",
            "1         44.6      37.1       1.0  20100101 01:00\n",
            "2         44.1      36.9       1.0  20100101 02:00\n",
            "3         43.8      36.9       1.0  20100101 03:00\n",
            "4         43.5      36.8       1.0  20100101 04:00\n",
            "Data 2011\n",
            "    13904  20110101   53  12  OVC045     ...  AA  .21  .22  .23 29.95.1  .24\n",
            "0  13904  20110101  153  12  OVC049     ...  AA                  30.02     \n",
            "1  13904  20110101  253  12  OVC060     ...  AA                  30.02     \n",
            "2  13904  20110101  353  12  OVC065     ...  AA                  30.04     \n",
            "3  13904  20110101  453  12  BKN070     ...  AA                  30.04     \n",
            "4  13904  20110101  553  12  BKN065     ...  AA                  30.06     \n",
            "\n",
            "[5 rows x 44 columns]\n"
          ],
          "name": "stdout"
        }
      ]
    },
    {
      "cell_type": "code",
      "metadata": {
        "colab": {
          "base_uri": "https://localhost:8080/"
        },
        "id": "ZqGEXqwaPdw1",
        "outputId": "885f5b5f-435a-4f88-93dc-7890b960de3d"
      },
      "source": [
        "# Change data type column Date in weather2010 to datetime\n",
        "weather2010['Date'] = pd.to_datetime(weather2010['Date'])\n",
        "\n",
        "weather2010 = weather2010.set_index('Date')\n",
        "print(weather2010.head())"
      ],
      "execution_count": 9,
      "outputs": [
        {
          "output_type": "stream",
          "text": [
            "                     Temperature  DewPoint  Pressure\n",
            "Date                                                \n",
            "2010-01-01 00:00:00         46.2      37.5       1.0\n",
            "2010-01-01 01:00:00         44.6      37.1       1.0\n",
            "2010-01-01 02:00:00         44.1      36.9       1.0\n",
            "2010-01-01 03:00:00         43.8      36.9       1.0\n",
            "2010-01-01 04:00:00         43.5      36.8       1.0\n"
          ],
          "name": "stdout"
        }
      ]
    },
    {
      "cell_type": "code",
      "metadata": {
        "colab": {
          "base_uri": "https://localhost:8080/"
        },
        "id": "K1-DCD_8PgnY",
        "outputId": "3ca6e8c3-85b3-4d8e-b0f6-d0fb7c249af3"
      },
      "source": [
        "column_labels = 'Wban,date,Time,StationType,sky_condition,sky_conditionFlag,visibility,visibilityFlag,wx_and_obst_to_vision,wx_and_obst_to_visionFlag,dry_bulb_faren,dry_bulb_farenFlag,dry_bulb_cel,dry_bulb_celFlag,wet_bulb_faren,wet_bulb_farenFlag,wet_bulb_cel,wet_bulb_celFlag,dew_point_faren,dew_point_farenFlag,dew_point_cel,dew_point_celFlag,relative_humidity,relative_humidityFlag,wind_speed,wind_speedFlag,wind_direction,wind_directionFlag,value_for_wind_character,value_for_wind_characterFlag,station_pressure,station_pressureFlag,pressure_tendency,pressure_tendencyFlag,presschange,presschangeFlag,sea_level_pressure,sea_level_pressureFlag,record_type,hourly_precip,hourly_precipFlag,altimeter,altimeterFlag,junk'\n",
        "\n",
        "# Convert the comma separated string in column_labels to list column_labels_list\n",
        "column_labels_list = column_labels.split(',')\n",
        "\n",
        "# Reassign df.columns using the list of strings\n",
        "weather2011.columns = column_labels_list\n",
        "\n",
        "# Create list of columns to drop\n",
        "list_to_drop = ['sky_conditionFlag', 'visibilityFlag', 'wx_and_obst_to_vision', 'wx_and_obst_to_visionFlag',\n",
        "                'dry_bulb_farenFlag', 'dry_bulb_celFlag', 'wet_bulb_farenFlag', 'wet_bulb_celFlag',\n",
        "                'dew_point_farenFlag', 'dew_point_celFlag', 'relative_humidityFlag',\n",
        "                'wind_speedFlag', 'wind_directionFlag', 'value_for_wind_character', 'value_for_wind_characterFlag',\n",
        "                'station_pressureFlag', 'pressure_tendencyFlag', 'pressure_tendency', 'presschange', 'presschangeFlag',\n",
        "                'sea_level_pressureFlag', 'hourly_precip', 'hourly_precipFlag', 'altimeter', 'record_type',\n",
        "                'altimeterFlag', 'junk']\n",
        "\n",
        "# Drop columns name and assigh result to sunlight_dropped\n",
        "weather2011_dropped = weather2011.drop(list_to_drop, axis='columns')\n",
        "\n",
        "print(weather2011_dropped.head())\n",
        "print(weather2011_dropped.info())"
      ],
      "execution_count": 10,
      "outputs": [
        {
          "output_type": "stream",
          "text": [
            "    Wban      date  Time  ...  wind_direction station_pressure sea_level_pressure\n",
            "0  13904  20110101   153  ...             340            29.49              30.01\n",
            "1  13904  20110101   253  ...              10            29.49              30.01\n",
            "2  13904  20110101   353  ...             350            29.51              30.03\n",
            "3  13904  20110101   453  ...              20            29.51              30.04\n",
            "4  13904  20110101   553  ...              10            29.53              30.06\n",
            "\n",
            "[5 rows x 17 columns]\n",
            "<class 'pandas.core.frame.DataFrame'>\n",
            "RangeIndex: 10336 entries, 0 to 10335\n",
            "Data columns (total 17 columns):\n",
            " #   Column              Non-Null Count  Dtype \n",
            "---  ------              --------------  ----- \n",
            " 0   Wban                10336 non-null  int64 \n",
            " 1   date                10336 non-null  int64 \n",
            " 2   Time                10336 non-null  int64 \n",
            " 3   StationType         10336 non-null  int64 \n",
            " 4   sky_condition       10336 non-null  object\n",
            " 5   visibility          10324 non-null  object\n",
            " 6   dry_bulb_faren      10336 non-null  object\n",
            " 7   dry_bulb_cel        10336 non-null  object\n",
            " 8   wet_bulb_faren      10336 non-null  object\n",
            " 9   wet_bulb_cel        10336 non-null  object\n",
            " 10  dew_point_faren     10336 non-null  object\n",
            " 11  dew_point_cel       10336 non-null  object\n",
            " 12  relative_humidity   10336 non-null  object\n",
            " 13  wind_speed          10336 non-null  object\n",
            " 14  wind_direction      10336 non-null  object\n",
            " 15  station_pressure    10336 non-null  object\n",
            " 16  sea_level_pressure  10336 non-null  object\n",
            "dtypes: int64(4), object(13)\n",
            "memory usage: 1.3+ MB\n",
            "None\n"
          ],
          "name": "stdout"
        }
      ]
    },
    {
      "cell_type": "code",
      "metadata": {
        "colab": {
          "base_uri": "https://localhost:8080/"
        },
        "id": "RFM9cR5rPkow",
        "outputId": "ff95dbe0-3b30-4f21-9423-6ea3c1b53245"
      },
      "source": [
        "# Convert the date column to string: df_dropped['date']\n",
        "weather2011_dropped['date'] = weather2011_dropped['date'].astype(str)\n",
        "\n",
        "# Pad leading zeros to the Time column: df_dropped['Time']\n",
        "weather2011_dropped['Time'] = weather2011_dropped['Time'].apply(lambda x: '{:0>4}'.format(x))\n",
        "\n",
        "# Concatenate the new date and Time columns: date_string\n",
        "date_string = weather2011_dropped['date'] + weather2011_dropped['Time']\n",
        "\n",
        "# Convert the date_string Series to datetime: date_times\n",
        "date_times = pd.to_datetime(date_string, format='%Y%m%d%H%M')\n",
        "\n",
        "# Set the index to be the new date_times container: df_clean\n",
        "weather2011_clean = weather2011_dropped.set_index(date_times)\n",
        "\n",
        "# Print the output of df_clean.head()\n",
        "print(weather2011_clean.head())"
      ],
      "execution_count": 11,
      "outputs": [
        {
          "output_type": "stream",
          "text": [
            "                      Wban      date  ... station_pressure  sea_level_pressure\n",
            "2011-01-01 01:53:00  13904  20110101  ...            29.49               30.01\n",
            "2011-01-01 02:53:00  13904  20110101  ...            29.49               30.01\n",
            "2011-01-01 03:53:00  13904  20110101  ...            29.51               30.03\n",
            "2011-01-01 04:53:00  13904  20110101  ...            29.51               30.04\n",
            "2011-01-01 05:53:00  13904  20110101  ...            29.53               30.06\n",
            "\n",
            "[5 rows x 17 columns]\n"
          ],
          "name": "stdout"
        }
      ]
    },
    {
      "cell_type": "code",
      "metadata": {
        "colab": {
          "base_uri": "https://localhost:8080/"
        },
        "id": "W3O6ktJzPntK",
        "outputId": "a8e60a6e-a94a-47f3-8b66-a607dbcfdb02"
      },
      "source": [
        "# Print the dry_bulb_faren temperature between 8 AM and 9 AM on June 20, 2011\n",
        "print(weather2011_clean.loc['2011-06-20 08:00:00':'2011-06-20 09:00:00', 'dry_bulb_faren'])"
      ],
      "execution_count": 12,
      "outputs": [
        {
          "output_type": "stream",
          "text": [
            "2011-06-20 08:27:00     M\n",
            "2011-06-20 08:28:00     M\n",
            "2011-06-20 08:29:00     M\n",
            "2011-06-20 08:30:00     M\n",
            "2011-06-20 08:31:00     M\n",
            "2011-06-20 08:32:00     M\n",
            "2011-06-20 08:33:00     M\n",
            "2011-06-20 08:34:00     M\n",
            "2011-06-20 08:35:00     M\n",
            "2011-06-20 08:53:00    83\n",
            "Name: dry_bulb_faren, dtype: object\n"
          ],
          "name": "stdout"
        }
      ]
    },
    {
      "cell_type": "code",
      "metadata": {
        "colab": {
          "base_uri": "https://localhost:8080/"
        },
        "id": "h8Lg2cX1PrBp",
        "outputId": "3790ed0b-ac74-4c28-bd92-50a428caf917"
      },
      "source": [
        "# Convert the dry_bulb_faren column to numeric values: df_clean['dry_bulb_faren']\n",
        "weather2011_clean['dry_bulb_faren'] = pd.to_numeric(weather2011_clean['dry_bulb_faren'], errors='coerce')\n",
        "\n",
        "# Convert the wind_speed and dew_point_faren columns to numeric values\n",
        "weather2011_clean['wind_speed'] = pd.to_numeric(weather2011_clean['wind_speed'], errors='coerce')\n",
        "weather2011_clean['dew_point_faren'] = pd.to_numeric(weather2011_clean['dew_point_faren'], errors='coerce')\n",
        "\n",
        "print(weather2011_clean.info())"
      ],
      "execution_count": 13,
      "outputs": [
        {
          "output_type": "stream",
          "text": [
            "<class 'pandas.core.frame.DataFrame'>\n",
            "DatetimeIndex: 10336 entries, 2011-01-01 01:53:00 to 2011-12-31 23:53:00\n",
            "Data columns (total 17 columns):\n",
            " #   Column              Non-Null Count  Dtype  \n",
            "---  ------              --------------  -----  \n",
            " 0   Wban                10336 non-null  int64  \n",
            " 1   date                10336 non-null  object \n",
            " 2   Time                10336 non-null  object \n",
            " 3   StationType         10336 non-null  int64  \n",
            " 4   sky_condition       10336 non-null  object \n",
            " 5   visibility          10324 non-null  object \n",
            " 6   dry_bulb_faren      10325 non-null  float64\n",
            " 7   dry_bulb_cel        10336 non-null  object \n",
            " 8   wet_bulb_faren      10336 non-null  object \n",
            " 9   wet_bulb_cel        10336 non-null  object \n",
            " 10  dew_point_faren     10322 non-null  float64\n",
            " 11  dew_point_cel       10336 non-null  object \n",
            " 12  relative_humidity   10336 non-null  object \n",
            " 13  wind_speed          10317 non-null  float64\n",
            " 14  wind_direction      10336 non-null  object \n",
            " 15  station_pressure    10336 non-null  object \n",
            " 16  sea_level_pressure  10336 non-null  object \n",
            "dtypes: float64(3), int64(2), object(12)\n",
            "memory usage: 1.7+ MB\n",
            "None\n"
          ],
          "name": "stdout"
        }
      ]
    },
    {
      "cell_type": "code",
      "metadata": {
        "colab": {
          "base_uri": "https://localhost:8080/"
        },
        "id": "n9cQ8K-LPuWa",
        "outputId": "435dfe59-efb5-47b1-9c6e-d390c7d1e1ea"
      },
      "source": [
        "# Print the median of the dry_bulb_faren column\n",
        "print(weather2011_clean['dry_bulb_faren'].median())\n",
        "\n",
        "# Print the median of the dry_bulb_faren column for the time range '2011-Apr':'2011-Jun'\n",
        "print(weather2011_clean.loc['2011-Apr':'2011-Jun', 'dry_bulb_faren'].median())\n",
        "\n",
        "# Print the median of the dry_bulb_faren column for the month of January\n",
        "print(weather2011_clean.loc['2011-Jan', 'dry_bulb_faren'].median())"
      ],
      "execution_count": 14,
      "outputs": [
        {
          "output_type": "stream",
          "text": [
            "72.0\n",
            "78.0\n",
            "48.0\n"
          ],
          "name": "stdout"
        }
      ]
    },
    {
      "cell_type": "code",
      "metadata": {
        "colab": {
          "base_uri": "https://localhost:8080/"
        },
        "id": "2vadWc2aPw_p",
        "outputId": "906dad29-bbc8-4942-fb1e-e1833b9c14ae"
      },
      "source": [
        "# Downsample df_clean by day and aggregate by mean: daily_mean_2011\n",
        "daily_mean_2011 = weather2011_clean.resample('D').mean()\n",
        "\n",
        "# Extract the dry_bulb_faren column from daily_mean_2011 using .values: daily_temp_2011\n",
        "daily_temp_2011 = daily_mean_2011['dry_bulb_faren'].values\n",
        "\n",
        "# Downsample df_climate by day and aggregate by mean: daily_climate\n",
        "daily_weather2010 = weather2010.resample('D').mean()\n",
        "\n",
        "# Extract the Temperature column from daily_climate using .reset_index(): daily_temp_climate\n",
        "daily_temp_weather2010 = daily_weather2010.reset_index()['Temperature']\n",
        "\n",
        "# Compute the difference between the two arrays and print the mean difference\n",
        "difference = daily_temp_2011 - daily_temp_weather2010\n",
        "print(difference.mean())"
      ],
      "execution_count": 15,
      "outputs": [
        {
          "output_type": "stream",
          "text": [
            "1.330083921569873\n"
          ],
          "name": "stdout"
        }
      ]
    },
    {
      "cell_type": "code",
      "metadata": {
        "colab": {
          "base_uri": "https://localhost:8080/"
        },
        "id": "G1dgrR6WPzMC",
        "outputId": "55cc5337-2298-4677-ad03-f11a3ac17d68"
      },
      "source": [
        "# Using df_clean, when is sky_condition 'CLR'?\n",
        "is_sky_clear = weather2011_clean['sky_condition']=='CLR'\n",
        "\n",
        "# Filter df_clean when is sky_condition 'CLR'\n",
        "sunny = weather2011_clean[is_sky_clear]\n",
        "\n",
        "# Resample sunny by day then calculate the max\n",
        "sunny_daily_max = sunny.resample('D').sum()\n",
        "\n",
        "# See the result\n",
        "print(sunny_daily_max.head())"
      ],
      "execution_count": 27,
      "outputs": [
        {
          "output_type": "stream",
          "text": [
            "              Wban  StationType  dry_bulb_faren  dew_point_faren  wind_speed\n",
            "2011-01-01  152944          132           529.0            277.0       108.0\n",
            "2011-01-02   97328           84           205.0            147.0        37.0\n",
            "2011-01-03   41712           36            93.0             75.0         0.0\n",
            "2011-01-04       0            0             0.0              0.0         0.0\n",
            "2011-01-05   13904           12            35.0             29.0         0.0\n"
          ],
          "name": "stdout"
        }
      ]
    },
    {
      "cell_type": "code",
      "metadata": {
        "colab": {
          "base_uri": "https://localhost:8080/"
        },
        "id": "o_bS0ZUxVD29",
        "outputId": "1d6f629c-fa2e-44c9-ffae-2ae284633318"
      },
      "source": [
        "# Using df_clean, when does sky_condition contain 'OVC'?\n",
        "is_sky_overcast = weather2011_clean['sky_condition'].str.contains('OVC')\n",
        "\n",
        "# Filter df_clean using is_sky_overcast\n",
        "overcast = weather2011_clean[is_sky_overcast]\n",
        "\n",
        "# Resample overcast by day then calculate the max\n",
        "overcast_daily_max = overcast.resample('D').sum()\n",
        "\n",
        "# See the result\n",
        "print(overcast_daily_max)"
      ],
      "execution_count": 28,
      "outputs": [
        {
          "output_type": "stream",
          "text": [
            "              Wban  StationType  dry_bulb_faren  dew_point_faren  wind_speed\n",
            "2011-01-01   41712           36           152.0             44.0        32.0\n",
            "2011-01-02       0            0             0.0              0.0         0.0\n",
            "2011-01-03  250272          216           939.0            711.0        62.0\n",
            "2011-01-04  570064          492          2243.0           2139.0       123.0\n",
            "2011-01-05  152944          132           626.0            608.0         6.0\n",
            "...            ...          ...             ...              ...         ...\n",
            "2011-12-24  431024          372          1341.0           1279.0       424.0\n",
            "2011-12-25  472736          408          1504.0           1385.0       329.0\n",
            "2011-12-26  194656          168           634.0            562.0        54.0\n",
            "2011-12-27       0            0             0.0              0.0         0.0\n",
            "2011-12-28   13904           12            54.0             38.0         9.0\n",
            "\n",
            "[362 rows x 5 columns]\n"
          ],
          "name": "stdout"
        }
      ]
    },
    {
      "cell_type": "code",
      "metadata": {
        "colab": {
          "base_uri": "https://localhost:8080/"
        },
        "id": "pY79_T4JVGmE",
        "outputId": "dd02438e-8f5f-4c35-8d93-960d9bf504b2"
      },
      "source": [
        "# Calculate the mean of sunny_daily_max\n",
        "sunny_daily_max_mean = sunny_daily_max.mean()\n",
        "\n",
        "# Calculate the mean of overcast_daily_max\n",
        "overcast_daily_max_mean = overcast_daily_max.mean()\n",
        "\n",
        "# Print the difference (sunny minus overcast)\n",
        "print(sunny_daily_max_mean - overcast_daily_max_mean)"
      ],
      "execution_count": 29,
      "outputs": [
        {
          "output_type": "stream",
          "text": [
            "Wban              -16412.360312\n",
            "StationType          -14.164868\n",
            "dry_bulb_faren       -48.870900\n",
            "dew_point_faren     -111.075403\n",
            "wind_speed           -32.636154\n",
            "dtype: float64\n"
          ],
          "name": "stdout"
        }
      ]
    },
    {
      "cell_type": "code",
      "metadata": {
        "colab": {
          "base_uri": "https://localhost:8080/",
          "height": 299
        },
        "id": "q3mKZ4BiVJwT",
        "outputId": "bf8efbf6-b46f-4972-da62-e857fa384412"
      },
      "source": [
        "# Select the visibility and dry_bulb_faren columns and resample them: weekly_mean\n",
        "weekly_mean = weather2011_clean[['visibility', 'dry_bulb_faren']].resample('W').mean()\n",
        "\n",
        "# Print the output of weekly_mean.corr()\n",
        "print(weekly_mean.corr())\n",
        "\n",
        "# Plot weekly_mean with subplots=True\n",
        "weekly_mean.plot(subplots=True)\n",
        "plt.show()"
      ],
      "execution_count": 30,
      "outputs": [
        {
          "output_type": "stream",
          "text": [
            "                dry_bulb_faren\n",
            "dry_bulb_faren             1.0\n"
          ],
          "name": "stdout"
        },
        {
          "output_type": "display_data",
          "data": {
            "image/png": "[encoded data removed]",
            "text/plain": [
              "<Figure size 432x288 with 1 Axes>"
            ]
          },
          "metadata": {
            "tags": [],
            "needs_background": "light"
          }
        }
      ]
    },
    {
      "cell_type": "code",
      "metadata": {
        "colab": {
          "base_uri": "https://localhost:8080/"
        },
        "id": "4SAPb437VM4m",
        "outputId": "d376bdb1-d6b9-4c90-962b-bfe0f1bff885"
      },
      "source": [
        "# Using df_clean, when is sky_condition 'CLR'?\n",
        "is_sky_clear = weather2011_clean['sky_condition'] == 'CLR'\n",
        "\n",
        "# Resample is_sky_clear by day\n",
        "resampled = is_sky_clear.resample('D')\n",
        "\n",
        "# See the result\n",
        "print(resampled)"
      ],
      "execution_count": 31,
      "outputs": [
        {
          "output_type": "stream",
          "text": [
            "DatetimeIndexResampler [freq=<Day>, axis=0, closed=left, label=left, convention=start, origin=start_day]\n"
          ],
          "name": "stdout"
        }
      ]
    },
    {
      "cell_type": "code",
      "metadata": {
        "colab": {
          "base_uri": "https://localhost:8080/",
          "height": 266
        },
        "id": "pLa7ipqMVPjn",
        "outputId": "17015515-384a-4ce9-c44f-9ebedb899c52"
      },
      "source": [
        "# Calculate the number of sunny hours per day\n",
        "sunny_hours = resampled.sum()\n",
        "\n",
        "# Calculate the number of measured hours per day\n",
        "total_hours = resampled.count()\n",
        "\n",
        "# Calculate the fraction of hours per day that were sunny\n",
        "sunny_fraction = sunny_hours / total_hours\n",
        "\n",
        "# Make a box plot of sunny_fraction\n",
        "sunny_fraction.plot(kind='box')\n",
        "plt.show()"
      ],
      "execution_count": 32,
      "outputs": [
        {
          "output_type": "display_data",
          "data": {
            "image/png": "[encoded data removed]",
            "text/plain": [
              "<Figure size 432x288 with 1 Axes>"
            ]
          },
          "metadata": {
            "tags": [],
            "needs_background": "light"
          }
        }
      ]
    },
    {
      "cell_type": "code",
      "metadata": {
        "colab": {
          "base_uri": "https://localhost:8080/",
          "height": 486
        },
        "id": "tu2xLpR0VTS3",
        "outputId": "e1bb9b38-157a-4e4d-ab5e-b3cb64d02410"
      },
      "source": [
        "# Resample dew_point_faren and dry_bulb_faren by Month, aggregating the maximum values: monthly_max\n",
        "monthly_max = weather2011_clean[['dew_point_faren', 'dry_bulb_faren']].resample('M').max()\n",
        "print(monthly_max)\n",
        "\n",
        "# Generate a histogram with bins=8, alpha=0.5, subplots=True\n",
        "monthly_max.plot(kind='hist', bins=8, alpha=0.5, subplots=True)\n",
        "\n",
        "# Show the plot\n",
        "plt.show()"
      ],
      "execution_count": 33,
      "outputs": [
        {
          "output_type": "stream",
          "text": [
            "            dew_point_faren  dry_bulb_faren\n",
            "2011-01-31             63.0            80.0\n",
            "2011-02-28             70.0            85.0\n",
            "2011-03-31             68.0            87.0\n",
            "2011-04-30             73.0            93.0\n",
            "2011-05-31             76.0           100.0\n",
            "2011-06-30             75.0           104.0\n",
            "2011-07-31             76.0           102.0\n",
            "2011-08-31             76.0           110.0\n",
            "2011-09-30             75.0           102.0\n",
            "2011-10-31             72.0            93.0\n",
            "2011-11-30             73.0            93.0\n",
            "2011-12-31             70.0            77.0\n"
          ],
          "name": "stdout"
        },
        {
          "output_type": "display_data",
          "data": {
            "image/png": "[encoded data removed]",
            "text/plain": [
              "<Figure size 432x288 with 2 Axes>"
            ]
          },
          "metadata": {
            "tags": [],
            "needs_background": "light"
          }
        }
      ]
    },
    {
      "cell_type": "code",
      "metadata": {
        "colab": {
          "base_uri": "https://localhost:8080/",
          "height": 282
        },
        "id": "gfTW01nPVWT8",
        "outputId": "33f1afd2-1a58-4e47-9aa4-965fd407889e"
      },
      "source": [
        "# Extract the maximum temperature in August 2010 from df_climate: august_max\n",
        "august_max = weather2010.loc['2010-Aug', 'Temperature'].max()\n",
        "print(august_max)\n",
        "\n",
        "# Resample August 2011 temps in df_clean by day & aggregate the max value: august_2011\n",
        "august_2011 = weather2011_clean.loc['2011-Aug', 'dry_bulb_faren'].resample('D').max()\n",
        "\n",
        "# Filter for days in august_2011 where the value exceeds august_max: august_2011_high\n",
        "august_2011_high = august_2011.loc[august_2011 > august_max]\n",
        "\n",
        "# Construct a CDF of august_2011_high\n",
        "august_2011_high.plot(kind='hist', bins=25, cumulative=True)\n",
        "\n",
        "# Display the plot\n",
        "plt.show()"
      ],
      "execution_count": 34,
      "outputs": [
        {
          "output_type": "stream",
          "text": [
            "95.3\n"
          ],
          "name": "stdout"
        },
        {
          "output_type": "display_data",
          "data": {
            "image/png": "[encoded data removed]",
            "text/plain": [
              "<Figure size 432x288 with 1 Axes>"
            ]
          },
          "metadata": {
            "tags": [],
            "needs_background": "light"
          }
        }
      ]
    }
  ]
}